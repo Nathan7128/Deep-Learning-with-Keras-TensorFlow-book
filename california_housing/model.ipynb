{
 "cells": [
  {
   "cell_type": "markdown",
   "metadata": {},
   "source": [
    "---\n",
    "# DATA IMPORTING\n",
    "---"
   ]
  },
  {
   "cell_type": "code",
   "execution_count": 33,
   "metadata": {},
   "outputs": [],
   "source": [
    "from sklearn.datasets import fetch_california_housing\n",
    "from sklearn.model_selection import train_test_split\n",
    "import numpy as np"
   ]
  },
  {
   "cell_type": "code",
   "execution_count": 2,
   "metadata": {},
   "outputs": [
    {
     "data": {
      "text/plain": [
       "dict_keys(['data', 'target', 'frame', 'target_names', 'feature_names', 'DESCR'])"
      ]
     },
     "execution_count": 2,
     "metadata": {},
     "output_type": "execute_result"
    }
   ],
   "source": [
    "fetch_california_housing().keys()"
   ]
  },
  {
   "cell_type": "code",
   "execution_count": 3,
   "metadata": {},
   "outputs": [
    {
     "name": "stdout",
     "output_type": "stream",
     "text": [
      ".. _california_housing_dataset:\n",
      "\n",
      "California Housing dataset\n",
      "--------------------------\n",
      "\n",
      "**Data Set Characteristics:**\n",
      "\n",
      ":Number of Instances: 20640\n",
      "\n",
      ":Number of Attributes: 8 numeric, predictive attributes and the target\n",
      "\n",
      ":Attribute Information:\n",
      "    - MedInc        median income in block group\n",
      "    - HouseAge      median house age in block group\n",
      "    - AveRooms      average number of rooms per household\n",
      "    - AveBedrms     average number of bedrooms per household\n",
      "    - Population    block group population\n",
      "    - AveOccup      average number of household members\n",
      "    - Latitude      block group latitude\n",
      "    - Longitude     block group longitude\n",
      "\n",
      ":Missing Attribute Values: None\n",
      "\n",
      "This dataset was obtained from the StatLib repository.\n",
      "https://www.dcc.fc.up.pt/~ltorgo/Regression/cal_housing.html\n",
      "\n",
      "The target variable is the median house value for California districts,\n",
      "expressed in hundreds of thousands of dollars ($100,000).\n",
      "\n",
      "This dataset was derived from the 1990 U.S. census, using one row per census\n",
      "block group. A block group is the smallest geographical unit for which the U.S.\n",
      "Census Bureau publishes sample data (a block group typically has a population\n",
      "of 600 to 3,000 people).\n",
      "\n",
      "A household is a group of people residing within a home. Since the average\n",
      "number of rooms and bedrooms in this dataset are provided per household, these\n",
      "columns may take surprisingly large values for block groups with few households\n",
      "and many empty houses, such as vacation resorts.\n",
      "\n",
      "It can be downloaded/loaded using the\n",
      ":func:`sklearn.datasets.fetch_california_housing` function.\n",
      "\n",
      ".. rubric:: References\n",
      "\n",
      "- Pace, R. Kelley and Ronald Barry, Sparse Spatial Autoregressions,\n",
      "  Statistics and Probability Letters, 33 (1997) 291-297\n",
      "\n"
     ]
    }
   ],
   "source": [
    "print(fetch_california_housing()[\"DESCR\"])"
   ]
  },
  {
   "cell_type": "code",
   "execution_count": 42,
   "metadata": {},
   "outputs": [],
   "source": [
    "# data splitting\n",
    "X_train_full, X_test, y_train_full, y_test = train_test_split(fetch_california_housing()[\"data\"], fetch_california_housing()[\"target\"], train_size = 0.8, random_state = 42)\n",
    "\n",
    "# data normalization\n",
    "mean, std = np.mean(X_train_full, axis = 0), np.std(X_train_full, axis = 0)\n",
    "X_train_full, X_test = (X_train_full - mean)/std, (X_test - mean)/std"
   ]
  },
  {
   "cell_type": "code",
   "execution_count": 37,
   "metadata": {},
   "outputs": [
    {
     "data": {
      "text/plain": [
       "((16512, 8), (16512,), (4128, 8), (4128,))"
      ]
     },
     "execution_count": 37,
     "metadata": {},
     "output_type": "execute_result"
    }
   ],
   "source": [
    "X_train_full.shape, y_train_full.shape, X_test.shape, y_test.shape"
   ]
  },
  {
   "cell_type": "code",
   "execution_count": null,
   "metadata": {},
   "outputs": [],
   "source": [
    "# data normalization\n",
    "mean, std = np.mean(X_train_full, axis = 0), np.std(X_train_full, axis = 0)\n",
    "X_train_full, X_test = (X_train_full - mean)/std, (X_test - mean)/std"
   ]
  },
  {
   "cell_type": "code",
   "execution_count": 29,
   "metadata": {},
   "outputs": [],
   "source": [
    "X_train, X_val, y_train, y_val = train_test_split(X_train_full, y_train_full, train_size = 0.75, random_state = 42)"
   ]
  },
  {
   "cell_type": "code",
   "execution_count": 30,
   "metadata": {},
   "outputs": [
    {
     "data": {
      "text/plain": [
       "((12384, 8), (12384,), (4128, 8), (4128,))"
      ]
     },
     "execution_count": 30,
     "metadata": {},
     "output_type": "execute_result"
    }
   ],
   "source": [
    "X_train.shape, y_train.shape, X_val.shape, y_val.shape"
   ]
  },
  {
   "cell_type": "markdown",
   "metadata": {},
   "source": [
    "---\n",
    "# Model construction\n",
    "---"
   ]
  },
  {
   "cell_type": "code",
   "execution_count": 51,
   "metadata": {},
   "outputs": [],
   "source": [
    "# import libraries\n",
    "import tensorflow as tf\n",
    "from tensorflow.keras.layers import Dense\n",
    "from tensorflow.keras import optimizers\n",
    "from tensorflow.keras.utils import plot_model\n",
    "import pandas as pd\n",
    "import matplotlib.pyplot as plt"
   ]
  },
  {
   "cell_type": "code",
   "execution_count": 56,
   "metadata": {},
   "outputs": [],
   "source": [
    "tf.random.set_seed(42)\n",
    "\n",
    "# model creating function\n",
    "def create_model() :\n",
    "    model = tf.keras.Sequential([\n",
    "        Dense(50, activation = \"relu\", input_shape = (8, )),\n",
    "        Dense(50, activation = \"relu\"),\n",
    "        Dense(50, activation = \"relu\"),\n",
    "        Dense(1)\n",
    "    ])\n",
    "\n",
    "    model.compile(optimizer = optimizers.Adam(learning_rate = 0.005), loss = \"mse\", metrics = [\"RootMeanSquaredError\"])\n",
    "\n",
    "    plot_model(model, to_file = \"model_california_housing.png\", show_shapes = True)\n",
    "\n",
    "    return model"
   ]
  },
  {
   "cell_type": "code",
   "execution_count": 57,
   "metadata": {},
   "outputs": [
    {
     "name": "stderr",
     "output_type": "stream",
     "text": [
      "c:\\Users\\natha\\Documents\\Programmation\\GitHub\\Deep Learning with Keras & TensorFlow book\\env\\Lib\\site-packages\\keras\\src\\layers\\core\\dense.py:87: UserWarning: Do not pass an `input_shape`/`input_dim` argument to a layer. When using Sequential models, prefer using an `Input(shape)` object as the first layer in the model instead.\n",
      "  super().__init__(activity_regularizer=activity_regularizer, **kwargs)\n"
     ]
    },
    {
     "name": "stdout",
     "output_type": "stream",
     "text": [
      "Epoch 1/40\n",
      "\u001b[1m387/387\u001b[0m \u001b[32m━━━━━━━━━━━━━━━━━━━━\u001b[0m\u001b[37m\u001b[0m \u001b[1m1s\u001b[0m 741us/step - RootMeanSquaredError: 35.1027 - loss: 1681.7247 - val_RootMeanSquaredError: 1.1015 - val_loss: 1.2134\n",
      "Epoch 2/40\n",
      "\u001b[1m387/387\u001b[0m \u001b[32m━━━━━━━━━━━━━━━━━━━━\u001b[0m\u001b[37m\u001b[0m \u001b[1m0s\u001b[0m 597us/step - RootMeanSquaredError: 1.0734 - loss: 1.1536 - val_RootMeanSquaredError: 0.9831 - val_loss: 0.9665\n",
      "Epoch 3/40\n",
      "\u001b[1m387/387\u001b[0m \u001b[32m━━━━━━━━━━━━━━━━━━━━\u001b[0m\u001b[37m\u001b[0m \u001b[1m0s\u001b[0m 621us/step - RootMeanSquaredError: 1.0034 - loss: 1.0075 - val_RootMeanSquaredError: 0.9599 - val_loss: 0.9214\n",
      "Epoch 4/40\n",
      "\u001b[1m387/387\u001b[0m \u001b[32m━━━━━━━━━━━━━━━━━━━━\u001b[0m\u001b[37m\u001b[0m \u001b[1m0s\u001b[0m 575us/step - RootMeanSquaredError: 0.9496 - loss: 0.9056 - val_RootMeanSquaredError: 3.8468 - val_loss: 14.7982\n",
      "Epoch 5/40\n",
      "\u001b[1m387/387\u001b[0m \u001b[32m━━━━━━━━━━━━━━━━━━━━\u001b[0m\u001b[37m\u001b[0m \u001b[1m0s\u001b[0m 536us/step - RootMeanSquaredError: 2.2584 - loss: 5.3647 - val_RootMeanSquaredError: 0.9790 - val_loss: 0.9584\n",
      "Epoch 6/40\n",
      "\u001b[1m387/387\u001b[0m \u001b[32m━━━━━━━━━━━━━━━━━━━━\u001b[0m\u001b[37m\u001b[0m \u001b[1m0s\u001b[0m 568us/step - RootMeanSquaredError: 1.1635 - loss: 1.3598 - val_RootMeanSquaredError: 5.3260 - val_loss: 28.3659\n",
      "Epoch 7/40\n",
      "\u001b[1m387/387\u001b[0m \u001b[32m━━━━━━━━━━━━━━━━━━━━\u001b[0m\u001b[37m\u001b[0m \u001b[1m0s\u001b[0m 588us/step - RootMeanSquaredError: 3.3258 - loss: 11.1466 - val_RootMeanSquaredError: 0.8901 - val_loss: 0.7922\n",
      "Epoch 8/40\n",
      "\u001b[1m387/387\u001b[0m \u001b[32m━━━━━━━━━━━━━━━━━━━━\u001b[0m\u001b[37m\u001b[0m \u001b[1m0s\u001b[0m 567us/step - RootMeanSquaredError: 0.8910 - loss: 0.7939 - val_RootMeanSquaredError: 1.0347 - val_loss: 1.0706\n",
      "Epoch 9/40\n",
      "\u001b[1m387/387\u001b[0m \u001b[32m━━━━━━━━━━━━━━━━━━━━\u001b[0m\u001b[37m\u001b[0m \u001b[1m0s\u001b[0m 536us/step - RootMeanSquaredError: 0.9099 - loss: 0.8285 - val_RootMeanSquaredError: 0.8923 - val_loss: 0.7961\n",
      "Epoch 10/40\n",
      "\u001b[1m387/387\u001b[0m \u001b[32m━━━━━━━━━━━━━━━━━━━━\u001b[0m\u001b[37m\u001b[0m \u001b[1m0s\u001b[0m 578us/step - RootMeanSquaredError: 0.8685 - loss: 0.7546 - val_RootMeanSquaredError: 0.8252 - val_loss: 0.6809\n",
      "Epoch 11/40\n",
      "\u001b[1m387/387\u001b[0m \u001b[32m━━━━━━━━━━━━━━━━━━━━\u001b[0m\u001b[37m\u001b[0m \u001b[1m0s\u001b[0m 536us/step - RootMeanSquaredError: 0.9808 - loss: 0.9680 - val_RootMeanSquaredError: 1.2800 - val_loss: 1.6385\n",
      "Epoch 12/40\n",
      "\u001b[1m387/387\u001b[0m \u001b[32m━━━━━━━━━━━━━━━━━━━━\u001b[0m\u001b[37m\u001b[0m \u001b[1m0s\u001b[0m 554us/step - RootMeanSquaredError: 1.0197 - loss: 1.0434 - val_RootMeanSquaredError: 1.1335 - val_loss: 1.2848\n",
      "Epoch 13/40\n",
      "\u001b[1m387/387\u001b[0m \u001b[32m━━━━━━━━━━━━━━━━━━━━\u001b[0m\u001b[37m\u001b[0m \u001b[1m0s\u001b[0m 565us/step - RootMeanSquaredError: 0.9463 - loss: 0.8971 - val_RootMeanSquaredError: 0.8798 - val_loss: 0.7741\n",
      "Epoch 14/40\n",
      "\u001b[1m387/387\u001b[0m \u001b[32m━━━━━━━━━━━━━━━━━━━━\u001b[0m\u001b[37m\u001b[0m \u001b[1m0s\u001b[0m 536us/step - RootMeanSquaredError: 1.0758 - loss: 1.1856 - val_RootMeanSquaredError: 1.3859 - val_loss: 1.9207\n",
      "Epoch 15/40\n",
      "\u001b[1m387/387\u001b[0m \u001b[32m━━━━━━━━━━━━━━━━━━━━\u001b[0m\u001b[37m\u001b[0m \u001b[1m0s\u001b[0m 542us/step - RootMeanSquaredError: 1.1389 - loss: 1.3058 - val_RootMeanSquaredError: 0.9233 - val_loss: 0.8525\n",
      "Epoch 16/40\n",
      "\u001b[1m387/387\u001b[0m \u001b[32m━━━━━━━━━━━━━━━━━━━━\u001b[0m\u001b[37m\u001b[0m \u001b[1m0s\u001b[0m 539us/step - RootMeanSquaredError: 0.9521 - loss: 0.9111 - val_RootMeanSquaredError: 0.8550 - val_loss: 0.7311\n",
      "Epoch 17/40\n",
      "\u001b[1m387/387\u001b[0m \u001b[32m━━━━━━━━━━━━━━━━━━━━\u001b[0m\u001b[37m\u001b[0m \u001b[1m0s\u001b[0m 570us/step - RootMeanSquaredError: 0.8523 - loss: 0.7268 - val_RootMeanSquaredError: 0.8310 - val_loss: 0.6906\n",
      "Epoch 18/40\n",
      "\u001b[1m387/387\u001b[0m \u001b[32m━━━━━━━━━━━━━━━━━━━━\u001b[0m\u001b[37m\u001b[0m \u001b[1m0s\u001b[0m 562us/step - RootMeanSquaredError: 0.8515 - loss: 0.7253 - val_RootMeanSquaredError: 0.9266 - val_loss: 0.8587\n",
      "Epoch 19/40\n",
      "\u001b[1m387/387\u001b[0m \u001b[32m━━━━━━━━━━━━━━━━━━━━\u001b[0m\u001b[37m\u001b[0m \u001b[1m0s\u001b[0m 575us/step - RootMeanSquaredError: 0.8825 - loss: 0.7801 - val_RootMeanSquaredError: 0.9496 - val_loss: 0.9017\n",
      "Epoch 20/40\n",
      "\u001b[1m387/387\u001b[0m \u001b[32m━━━━━━━━━━━━━━━━━━━━\u001b[0m\u001b[37m\u001b[0m \u001b[1m0s\u001b[0m 562us/step - RootMeanSquaredError: 0.8642 - loss: 0.7476 - val_RootMeanSquaredError: 1.1473 - val_loss: 1.3162\n",
      "Epoch 21/40\n",
      "\u001b[1m387/387\u001b[0m \u001b[32m━━━━━━━━━━━━━━━━━━━━\u001b[0m\u001b[37m\u001b[0m \u001b[1m0s\u001b[0m 552us/step - RootMeanSquaredError: 1.0598 - loss: 1.1462 - val_RootMeanSquaredError: 0.8361 - val_loss: 0.6990\n",
      "Epoch 22/40\n",
      "\u001b[1m387/387\u001b[0m \u001b[32m━━━━━━━━━━━━━━━━━━━━\u001b[0m\u001b[37m\u001b[0m \u001b[1m0s\u001b[0m 567us/step - RootMeanSquaredError: 0.9238 - loss: 0.8541 - val_RootMeanSquaredError: 0.9913 - val_loss: 0.9826\n",
      "Epoch 23/40\n",
      "\u001b[1m387/387\u001b[0m \u001b[32m━━━━━━━━━━━━━━━━━━━━\u001b[0m\u001b[37m\u001b[0m \u001b[1m0s\u001b[0m 534us/step - RootMeanSquaredError: 0.8836 - loss: 0.7833 - val_RootMeanSquaredError: 1.2355 - val_loss: 1.5265\n",
      "Epoch 24/40\n",
      "\u001b[1m387/387\u001b[0m \u001b[32m━━━━━━━━━━━━━━━━━━━━\u001b[0m\u001b[37m\u001b[0m \u001b[1m0s\u001b[0m 529us/step - RootMeanSquaredError: 0.9471 - loss: 0.9061 - val_RootMeanSquaredError: 0.9104 - val_loss: 0.8288\n",
      "Epoch 25/40\n",
      "\u001b[1m387/387\u001b[0m \u001b[32m━━━━━━━━━━━━━━━━━━━━\u001b[0m\u001b[37m\u001b[0m \u001b[1m0s\u001b[0m 549us/step - RootMeanSquaredError: 0.8475 - loss: 0.7193 - val_RootMeanSquaredError: 1.1696 - val_loss: 1.3680\n",
      "Epoch 26/40\n",
      "\u001b[1m387/387\u001b[0m \u001b[32m━━━━━━━━━━━━━━━━━━━━\u001b[0m\u001b[37m\u001b[0m \u001b[1m0s\u001b[0m 526us/step - RootMeanSquaredError: 0.9155 - loss: 0.8437 - val_RootMeanSquaredError: 0.8788 - val_loss: 0.7723\n",
      "Epoch 27/40\n",
      "\u001b[1m387/387\u001b[0m \u001b[32m━━━━━━━━━━━━━━━━━━━━\u001b[0m\u001b[37m\u001b[0m \u001b[1m0s\u001b[0m 535us/step - RootMeanSquaredError: 0.8217 - loss: 0.6753 - val_RootMeanSquaredError: 0.8020 - val_loss: 0.6433\n",
      "Epoch 28/40\n",
      "\u001b[1m387/387\u001b[0m \u001b[32m━━━━━━━━━━━━━━━━━━━━\u001b[0m\u001b[37m\u001b[0m \u001b[1m0s\u001b[0m 544us/step - RootMeanSquaredError: 0.8346 - loss: 0.6967 - val_RootMeanSquaredError: 0.7783 - val_loss: 0.6057\n",
      "Epoch 29/40\n",
      "\u001b[1m387/387\u001b[0m \u001b[32m━━━━━━━━━━━━━━━━━━━━\u001b[0m\u001b[37m\u001b[0m \u001b[1m0s\u001b[0m 570us/step - RootMeanSquaredError: 0.8781 - loss: 0.7727 - val_RootMeanSquaredError: 0.7893 - val_loss: 0.6230\n",
      "Epoch 30/40\n",
      "\u001b[1m387/387\u001b[0m \u001b[32m━━━━━━━━━━━━━━━━━━━━\u001b[0m\u001b[37m\u001b[0m \u001b[1m0s\u001b[0m 544us/step - RootMeanSquaredError: 0.8524 - loss: 0.7272 - val_RootMeanSquaredError: 0.7944 - val_loss: 0.6310\n",
      "Epoch 31/40\n",
      "\u001b[1m387/387\u001b[0m \u001b[32m━━━━━━━━━━━━━━━━━━━━\u001b[0m\u001b[37m\u001b[0m \u001b[1m0s\u001b[0m 539us/step - RootMeanSquaredError: 0.8131 - loss: 0.6615 - val_RootMeanSquaredError: 0.7820 - val_loss: 0.6116\n",
      "Epoch 32/40\n",
      "\u001b[1m387/387\u001b[0m \u001b[32m━━━━━━━━━━━━━━━━━━━━\u001b[0m\u001b[37m\u001b[0m \u001b[1m0s\u001b[0m 547us/step - RootMeanSquaredError: 0.8127 - loss: 0.6609 - val_RootMeanSquaredError: 0.7897 - val_loss: 0.6236\n",
      "Epoch 33/40\n",
      "\u001b[1m387/387\u001b[0m \u001b[32m━━━━━━━━━━━━━━━━━━━━\u001b[0m\u001b[37m\u001b[0m \u001b[1m0s\u001b[0m 543us/step - RootMeanSquaredError: 0.8109 - loss: 0.6576 - val_RootMeanSquaredError: 0.7881 - val_loss: 0.6211\n",
      "Epoch 34/40\n",
      "\u001b[1m387/387\u001b[0m \u001b[32m━━━━━━━━━━━━━━━━━━━━\u001b[0m\u001b[37m\u001b[0m \u001b[1m0s\u001b[0m 549us/step - RootMeanSquaredError: 0.7997 - loss: 0.6397 - val_RootMeanSquaredError: 0.8243 - val_loss: 0.6795\n",
      "Epoch 35/40\n",
      "\u001b[1m387/387\u001b[0m \u001b[32m━━━━━━━━━━━━━━━━━━━━\u001b[0m\u001b[37m\u001b[0m \u001b[1m0s\u001b[0m 557us/step - RootMeanSquaredError: 0.7980 - loss: 0.6369 - val_RootMeanSquaredError: 0.7696 - val_loss: 0.5923\n",
      "Epoch 36/40\n",
      "\u001b[1m387/387\u001b[0m \u001b[32m━━━━━━━━━━━━━━━━━━━━\u001b[0m\u001b[37m\u001b[0m \u001b[1m0s\u001b[0m 539us/step - RootMeanSquaredError: 0.7920 - loss: 0.6274 - val_RootMeanSquaredError: 1.0710 - val_loss: 1.1470\n",
      "Epoch 37/40\n",
      "\u001b[1m387/387\u001b[0m \u001b[32m━━━━━━━━━━━━━━━━━━━━\u001b[0m\u001b[37m\u001b[0m \u001b[1m0s\u001b[0m 539us/step - RootMeanSquaredError: 0.8120 - loss: 0.6613 - val_RootMeanSquaredError: 0.8635 - val_loss: 0.7457\n",
      "Epoch 38/40\n",
      "\u001b[1m387/387\u001b[0m \u001b[32m━━━━━━━━━━━━━━━━━━━━\u001b[0m\u001b[37m\u001b[0m \u001b[1m0s\u001b[0m 543us/step - RootMeanSquaredError: 0.8055 - loss: 0.6493 - val_RootMeanSquaredError: 0.8098 - val_loss: 0.6558\n",
      "Epoch 39/40\n",
      "\u001b[1m387/387\u001b[0m \u001b[32m━━━━━━━━━━━━━━━━━━━━\u001b[0m\u001b[37m\u001b[0m \u001b[1m0s\u001b[0m 527us/step - RootMeanSquaredError: 0.7862 - loss: 0.6183 - val_RootMeanSquaredError: 0.8002 - val_loss: 0.6403\n",
      "Epoch 40/40\n",
      "\u001b[1m387/387\u001b[0m \u001b[32m━━━━━━━━━━━━━━━━━━━━\u001b[0m\u001b[37m\u001b[0m \u001b[1m0s\u001b[0m 548us/step - RootMeanSquaredError: 0.7864 - loss: 0.6186 - val_RootMeanSquaredError: 0.7326 - val_loss: 0.5367\n"
     ]
    }
   ],
   "source": [
    "model = create_model()\n",
    "history = model.fit(X_train, y_train, epochs = 40, validation_data = (X_val, y_val))"
   ]
  },
  {
   "cell_type": "code",
   "execution_count": 59,
   "metadata": {},
   "outputs": [
    {
     "data": {
      "image/png": "[encoded data removed]",
      "text/plain": [
       "<Figure size 800x500 with 1 Axes>"
      ]
     },
     "metadata": {},
     "output_type": "display_data"
    }
   ],
   "source": [
    "# history plotting\n",
    "pd.DataFrame(history.history).plot(figsize = (8, 5), xlim = [0, 39], grid = True, xlabel = \"Epoch\", style = [\"r--\", \"r--.\", \"b-\", \"b-*\"])\n",
    "plt.show()"
   ]
  },
  {
   "cell_type": "code",
   "execution_count": null,
   "metadata": {},
   "outputs": [],
   "source": []
  },
  {
   "cell_type": "code",
   "execution_count": null,
   "metadata": {},
   "outputs": [],
   "source": []
  },
  {
   "cell_type": "code",
   "execution_count": null,
   "metadata": {},
   "outputs": [],
   "source": []
  }
 ],
 "metadata": {
  "kernelspec": {
   "display_name": "env",
   "language": "python",
   "name": "python3"
  },
  "language_info": {
   "codemirror_mode": {
    "name": "ipython",
    "version": 3
   },
   "file_extension": ".py",
   "mimetype": "text/x-python",
   "name": "python",
   "nbconvert_exporter": "python",
   "pygments_lexer": "ipython3",
   "version": "3.12.6"
  }
 },
 "nbformat": 4,
 "nbformat_minor": 2
}
